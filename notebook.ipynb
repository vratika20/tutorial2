{
 "cells": [
  {
   "cell_type": "code",
   "execution_count": 5,
   "id": "d2794d01-c345-4ec4-996d-134a11338961",
   "metadata": {},
   "outputs": [
    {
     "name": "stdout",
     "output_type": "stream",
     "text": [
      "[[ 1  2  3]\n",
      " [ 6  8  9]\n",
      " [ 4  5  0]\n",
      " [11 23 45]]\n"
     ]
    }
   ],
   "source": [
    "import numpy as np\n",
    "arr=np.array([[1,2,3],[6,8,9],[4,5,0],[11,23,45]])\n",
    "print(arr)"
   ]
  },
  {
   "cell_type": "code",
   "execution_count": null,
   "id": "e05cdfb9-f5f6-43ee-bec1-77a9c751ebd0",
   "metadata": {},
   "outputs": [],
   "source": []
  },
  {
   "cell_type": "code",
   "execution_count": 9,
   "id": "5a3848a8-8a1b-47b2-9851-2e116c13f638",
   "metadata": {},
   "outputs": [
    {
     "name": "stdout",
     "output_type": "stream",
     "text": [
      "  C_CONTIGUOUS : True\n",
      "  F_CONTIGUOUS : False\n",
      "  OWNDATA : True\n",
      "  WRITEABLE : True\n",
      "  ALIGNED : True\n",
      "  WRITEBACKIFCOPY : False\n",
      "\n"
     ]
    }
   ],
   "source": [
    "import numpy as np\n",
    "arr=np.array([[1,2,3],[6,8,9],[4,5,0],[11,23,45]])\n",
    "print(arr.flags)"
   ]
  },
  {
   "cell_type": "code",
   "execution_count": 11,
   "id": "c99d9990-addd-4952-907c-04752d2237cd",
   "metadata": {},
   "outputs": [
    {
     "name": "stdout",
     "output_type": "stream",
     "text": [
      "(4, 3)\n"
     ]
    }
   ],
   "source": [
    "import numpy as np\n",
    "arr=np.array([[1,2,3],[6,8,9],[4,5,0],[11,23,45]])\n",
    "print(arr.shape)"
   ]
  },
  {
   "cell_type": "code",
   "execution_count": 13,
   "id": "a3348683-0fac-480e-87f3-d2f91e1f2a61",
   "metadata": {},
   "outputs": [
    {
     "name": "stdout",
     "output_type": "stream",
     "text": [
      "(12, 4)\n"
     ]
    }
   ],
   "source": [
    "import numpy as np\n",
    "arr=np.array([[1,2,3],[6,8,9],[4,5,0],[11,23,45]])\n",
    "print(arr.strides)"
   ]
  },
  {
   "cell_type": "code",
   "execution_count": 15,
   "id": "e5f157e6-fdeb-4c00-a124-5292b583e894",
   "metadata": {},
   "outputs": [
    {
     "name": "stdout",
     "output_type": "stream",
     "text": [
      "2\n"
     ]
    }
   ],
   "source": [
    "import numpy as np\n",
    "arr=np.array([[1,2,3],[6,8,9],[4,5,0],[11,23,45]])\n",
    "print(arr.ndim)"
   ]
  },
  {
   "cell_type": "code",
   "execution_count": 17,
   "id": "0c33cac4-6a68-401a-94fb-4b0067ec400e",
   "metadata": {},
   "outputs": [
    {
     "name": "stdout",
     "output_type": "stream",
     "text": [
      "<memory at 0x000002068689FD30>\n"
     ]
    }
   ],
   "source": [
    "import numpy as np\n",
    "arr=np.array([[1,2,3],[6,8,9],[4,5,0],[11,23,45]])\n",
    "print(arr.data)"
   ]
  },
  {
   "cell_type": "code",
   "execution_count": 19,
   "id": "db2f5c2d-663c-41de-902a-1055d77d54fc",
   "metadata": {},
   "outputs": [
    {
     "name": "stdout",
     "output_type": "stream",
     "text": [
      "4\n"
     ]
    }
   ],
   "source": [
    "import numpy as np\n",
    "arr=np.array([[1,2,3],[6,8,9],[4,5,0],[11,23,45]])\n",
    "print(arr.itemsize)"
   ]
  },
  {
   "cell_type": "code",
   "execution_count": 21,
   "id": "98d0ba9b-f03c-4c0f-8a77-48d857c9c8c5",
   "metadata": {},
   "outputs": [
    {
     "name": "stdout",
     "output_type": "stream",
     "text": [
      "None\n"
     ]
    }
   ],
   "source": [
    "import numpy as np\n",
    "arr=np.array([[1,2,3],[6,8,9],[4,5,0],[11,23,45]])\n",
    "print(arr.base)"
   ]
  },
  {
   "cell_type": "code",
   "execution_count": 23,
   "id": "08ca4860-9f4f-4a5b-a7b4-15b62713dcf4",
   "metadata": {},
   "outputs": [
    {
     "name": "stdout",
     "output_type": "stream",
     "text": [
      "48\n"
     ]
    }
   ],
   "source": [
    "import numpy as np\n",
    "arr=np.array([[1,2,3],[6,8,9],[4,5,0],[11,23,45]])\n",
    "print(arr.nbytes)"
   ]
  },
  {
   "cell_type": "code",
   "execution_count": 25,
   "id": "38bbb5c0-e530-4f0d-a21a-5932550e9d6d",
   "metadata": {},
   "outputs": [
    {
     "name": "stdout",
     "output_type": "stream",
     "text": [
      "[[ 1  6  4 11]\n",
      " [ 2  8  5 23]\n",
      " [ 3  9  0 45]]\n"
     ]
    }
   ],
   "source": [
    "import numpy as np\n",
    "arr=np.array([[1,2,3],[6,8,9],[4,5,0],[11,23,45]])\n",
    "print(arr.T)"
   ]
  },
  {
   "cell_type": "code",
   "execution_count": 27,
   "id": "37fde60e-bd67-4145-8fab-8028b7e776f0",
   "metadata": {},
   "outputs": [
    {
     "name": "stdout",
     "output_type": "stream",
     "text": [
      "[[ 1  2  3]\n",
      " [ 6  8  9]\n",
      " [ 4  5  0]\n",
      " [11 23 45]]\n"
     ]
    }
   ],
   "source": [
    "import numpy as np\n",
    "arr=np.array([[1,2,3],[6,8,9],[4,5,0],[11,23,45]])\n",
    "print(arr.real)"
   ]
  },
  {
   "cell_type": "code",
   "execution_count": 29,
   "id": "a0e969dc-3fa5-4892-8fb3-b898789f5ab8",
   "metadata": {},
   "outputs": [
    {
     "name": "stdout",
     "output_type": "stream",
     "text": [
      "[[0 0 0]\n",
      " [0 0 0]\n",
      " [0 0 0]\n",
      " [0 0 0]]\n"
     ]
    }
   ],
   "source": [
    "import numpy as np\n",
    "arr=np.array([[1,2,3],[6,8,9],[4,5,0],[11,23,45]])\n",
    "print(arr.imag)"
   ]
  },
  {
   "cell_type": "code",
   "execution_count": 5,
   "id": "e414cf29-12d8-482b-b2c8-4125a83fc2e1",
   "metadata": {},
   "outputs": [
    {
     "name": "stdout",
     "output_type": "stream",
     "text": [
      "[[ 1  2  3]\n",
      " [ 6  8  9]\n",
      " [ 4  5  0]\n",
      " [11 23 45]]\n"
     ]
    }
   ],
   "source": [
    "import numpy as np\n",
    "arr=np.array([[1,2,3],[6,8,9],[4,5,0],[11,23,45]])\n",
    "print(arr)"
   ]
  },
  {
   "cell_type": "code",
   "execution_count": 5,
   "id": "33098686-3fbd-4c0b-8e01-bfdcbd6d3e72",
   "metadata": {},
   "outputs": [
    {
     "name": "stdout",
     "output_type": "stream",
     "text": [
      "[[ 1  2  3]\n",
      " [ 6  8  9]\n",
      " [ 4  5  0]\n",
      " [11 23 45]]\n"
     ]
    }
   ],
   "source": [
    "import numpy as np\n",
    "arr=np.array([[1,2,3],[6,8,9],[4,5,0],[11,23,45]])\n",
    "print(arr)"
   ]
  },
  {
   "cell_type": "code",
   "execution_count": 53,
   "id": "bb7b247a-1610-4233-ad28-fcf8dfa31bd2",
   "metadata": {},
   "outputs": [
    {
     "name": "stdout",
     "output_type": "stream",
     "text": [
      "[[0.+0.j 0.+0.j]\n",
      " [0.+0.j 0.+0.j]]\n",
      "[[2.+3.j 0.+0.j]\n",
      " [0.+0.j 0.+0.j]]\n"
     ]
    }
   ],
   "source": [
    "import numpy as np\n",
    "x=1+2*1j\n",
    "C=np.zeros((2,2),dtype=np.complex_)\n",
    "c=np.array([[0.+0.j,0.+0.j],\n",
    "         [0.+0.j,0.+0.j]])\n",
    "c[0,0]=1+1j+x\n",
    "#d=np.array([[2.+3.j,0.+0.j],[0+0.j,0+0.j]])\n",
    "print(C)\n",
    "print(c)\n",
    "#print(d)"
   ]
  },
  {
   "cell_type": "code",
   "execution_count": null,
   "id": "7fd99d9b-0a4e-4681-b26c-43ff6fd7a0ed",
   "metadata": {},
   "outputs": [],
   "source": []
  }
 ],
 "metadata": {
  "kernelspec": {
   "display_name": "Python 3 (ipykernel)",
   "language": "python",
   "name": "python3"
  },
  "language_info": {
   "codemirror_mode": {
    "name": "ipython",
    "version": 3
   },
   "file_extension": ".py",
   "mimetype": "text/x-python",
   "name": "python",
   "nbconvert_exporter": "python",
   "pygments_lexer": "ipython3",
   "version": "3.12.4"
  }
 },
 "nbformat": 4,
 "nbformat_minor": 5
}
